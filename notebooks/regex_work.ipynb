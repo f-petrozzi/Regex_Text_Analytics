{
  "nbformat": 4,
  "nbformat_minor": 0,
  "metadata": {
    "colab": {
      "provenance": []
    },
    "kernelspec": {
      "name": "python3",
      "display_name": "Python 3"
    },
    "language_info": {
      "name": "python"
    }
  },
  "cells": [
    {
      "cell_type": "markdown",
      "source": [
        "# Part 1: Text Selection and Acquisition"
      ],
      "metadata": {
        "id": "FhgK2sFxCUY_"
      }
    },
    {
      "cell_type": "code",
      "execution_count": null,
      "metadata": {
        "colab": {
          "base_uri": "https://localhost:8080/"
        },
        "id": "GkiW5dq2-eiA",
        "outputId": "78f1b7fe-1d0c-4a90-94a4-3d526f700381"
      },
      "outputs": [
        {
          "output_type": "stream",
          "name": "stdout",
          "text": [
            "Book title: The Wonderful Wizard of Oz\n",
            "Total characters: 232,206\n",
            "Total lines: 5,130\n",
            "File size: 231.72 KB\n"
          ]
        }
      ],
      "source": [
        "# Importing\n",
        "import requests\n",
        "import re\n",
        "\n",
        "# Downloading the book as plain text\n",
        "url = \"https://www.gutenberg.org/cache/epub/55/pg55.txt\"\n",
        "response = requests.get(url)\n",
        "text = response.text\n",
        "\n",
        "# Displaying the basic statistics\n",
        "print(f\"Book title: The Wonderful Wizard of Oz\")\n",
        "print(f\"Total characters: {len(text):,}\")\n",
        "print(f\"Total lines: {len(text.splitlines()):,}\")\n",
        "print(f\"File size: {len(text.encode('utf-8')) / 1024:.2f} KB\")"
      ]
    },
    {
      "cell_type": "markdown",
      "source": [
        "# Part 2: Text Cleaning with Regular Expressions"
      ],
      "metadata": {
        "id": "PzFlbz99Ca7B"
      }
    },
    {
      "cell_type": "code",
      "source": [
        "# Removing Project Gutenberg headers and footers using \\n to handle line breaks\n",
        "header_pattern = r\"^(.|\\n)*\\*\\*\\* START OF THE PROJECT GUTENBERG EBOOK.*\\n\" # matches all from start of file up to and including \"***START...\" line\n",
        "footer_pattern = r\"\\*\\*\\* END OF THE PROJECT GUTENBERG EBOOK.*(.|\\n)*$\" # matches all from \"***END...\" line through end of file\n",
        "\n",
        "text = re.sub(header_pattern, \"\", text) # removing header\n",
        "text = re.sub(footer_pattern, \"\", text) # removing footer\n",
        "\n",
        "# Chapter finding pattern, covers most cases (includes introduction)\n",
        "chapter_pattern = r\"[Ii]ntroduction|[Cc]hapter\\s+(?:[IVXLCDM]+|\\d+|[A-Za-z-]+)\" # (?:) added so that findall returns the full match\n",
        "chapters = re.findall(chapter_pattern, text)\n",
        "\n",
        "# Keeping only first occurrence of each chapter to remove duplicates\n",
        "chapters = list(dict.fromkeys(chapters))\n",
        "\n",
        "# Cleaning special formatting\n",
        "text_caps = text # saves original casing for name extraction\n",
        "text = re.sub(r\"[“”]\",'\"', text) # replacing special character quotations for regular quotations\n",
        "text = re.sub(r\"\\s+\", \" \", text).strip() # removes extra whitespace\n",
        "text = text.lower() # lowercase all\n",
        "text = re.sub(r'[_*]+', '', text) # removes underscores, asterisks used for emphasis\n",
        "\n",
        "# Display results\n",
        "print(f\"Number of chapters found: {len(chapters)}\")\n",
        "print(f\"First 5 chapters: {chapters[:5]}\")"
      ],
      "metadata": {
        "colab": {
          "base_uri": "https://localhost:8080/"
        },
        "id": "_5uM6xP-SxRR",
        "outputId": "0f82c924-11a8-4476-8508-efede5fa3140"
      },
      "execution_count": null,
      "outputs": [
        {
          "output_type": "stream",
          "name": "stdout",
          "text": [
            "Number of chapters found: 25\n",
            "First 5 chapters: ['Introduction', 'Chapter I', 'Chapter II', 'Chapter III', 'Chapter IV']\n"
          ]
        }
      ]
    },
    {
      "cell_type": "markdown",
      "source": [
        "# Part 3: Text Tokenization and Basic Analysis"
      ],
      "metadata": {
        "id": "CfqDNarLkU41"
      }
    },
    {
      "cell_type": "code",
      "source": [
        "from collections import Counter\n",
        "from nltk.corpus import stopwords\n",
        "import nltk\n",
        "try:\n",
        "    nltk.data.find('corpora/stopwords')\n",
        "except LookupError:\n",
        "    nltk.download('stopwords', quiet=True)\n",
        "\n",
        "#1. Tokenization\n",
        "# Pattern for word tokenization using regex\n",
        "word_pattern = r\"\\b\\w+\\b\"\n",
        "words = re.findall(word_pattern, text)\n",
        "\n",
        "# Pattern for sentence tokenization using regex\n",
        "sentence_pattern = r\"[^.!?]+[.!?]\" # finding punctuation that ends sentences\n",
        "sentences = re.findall(sentence_pattern, text)\n",
        "\n",
        "print(f\"Number of words: {len(words)}\")\n",
        "print(f\"Number of sentences: {len(sentences)}\")\n",
        "\n",
        "#2. Word Frequency Analysis\n",
        "# Word Frequency Analysis no stopwords\n",
        "word_freq = Counter(words)\n",
        "print(\"Top 20 words:\", word_freq.most_common(20))\n",
        "\n",
        "# Word Frequency Analysis w/ stopwords\n",
        "stop_words = set(stopwords.words('english'))\n",
        "filtered_words = [w for w in words if w not in stop_words and w.isalpha()] # filters out stopwords and makes sure characters in the string are alphabet letters\n",
        "filtered_word_freq = Counter(filtered_words)\n",
        "print(\"Top 20 words (no stopwords):\", filtered_word_freq.most_common(20))\n",
        "\n",
        "# Vocabulary size no stopwords\n",
        "unique_words = set(words)\n",
        "print(f\"Vocabulary size: {len(unique_words)}\")\n",
        "\n",
        "# Vocabulary size w/ stopwords\n",
        "unique_filtered_words = set(filtered_words)\n",
        "print(f\"Vocabulary size (no stopwords): {len(unique_filtered_words)}\")\n",
        "\n",
        "#3. Pattern Analysis using Regex\n",
        "# Quoted dialogue\n",
        "dialogue_pattern = r'\"[^\"]+\"|\\'[^\\']+\\'' # checking for both quotations and apostrophes\n",
        "dialogues = re.findall(dialogue_pattern, text)\n",
        "print(f\"Number of quoted dialogue: {len(dialogues)}\")\n",
        "\n",
        "# Character Names\n",
        "name_pattern = r\"\\b[A-Z][a-z]+\\b\"\n",
        "names = re.findall(name_pattern, text_caps)\n",
        "filtered_names = [n for n in names if n.lower() not in stop_words] # filtering out stopwords that were treated as names\n",
        "name_counts = Counter(filtered_names)\n",
        "print(f\"Number of character names: {len(name_counts)}\")\n",
        "\n",
        "# Questions\n",
        "question_pattern = r\"[^?]+\\?\"\n",
        "questions = re.findall(question_pattern, text)\n",
        "print(f\"Number of questions: {len(questions)}\")\n",
        "\n",
        "# Exclamations\n",
        "exclamations_pattern = r\"[^!]+\\!\"\n",
        "exclamations = re.findall(exclamations_pattern, text)\n",
        "print(f\"Number of exclamations: {len(exclamations)}\")"
      ],
      "metadata": {
        "colab": {
          "base_uri": "https://localhost:8080/"
        },
        "id": "3mGmjnofkYL2",
        "outputId": "e39c827d-329d-4ea0-a3a0-c56515a783dd"
      },
      "execution_count": null,
      "outputs": [
        {
          "output_type": "stream",
          "name": "stdout",
          "text": [
            "Number of words: 40001\n",
            "Number of sentences: 2255\n",
            "Top 20 words: [('the', 3004), ('and', 1671), ('to', 1118), ('of', 847), ('a', 807), ('i', 649), ('was', 504), ('you', 495), ('in', 483), ('he', 457), ('it', 426), ('her', 410), ('they', 403), ('she', 398), ('that', 395), ('dorothy', 369), ('said', 332), ('as', 329), ('for', 328), ('so', 307)]\n",
            "Top 20 words (no stopwords): [('dorothy', 369), ('said', 332), ('scarecrow', 225), ('woodman', 183), ('lion', 180), ('oz', 164), ('great', 142), ('tin', 140), ('little', 139), ('witch', 129), ('one', 126), ('could', 120), ('asked', 114), ('would', 113), ('green', 104), ('came', 104), ('good', 102), ('back', 98), ('see', 95), ('girl', 94)]\n",
            "Vocabulary size: 2934\n",
            "Vocabulary size (no stopwords): 2794\n",
            "Number of quoted dialogue: 1074\n",
            "Number of character names: 260\n",
            "Number of questions: 194\n",
            "Number of exclamations: 97\n"
          ]
        }
      ]
    },
    {
      "cell_type": "markdown",
      "source": [
        "# Part 4: Document Representation and Similarity"
      ],
      "metadata": {
        "id": "p75S9p8Fs66j"
      }
    },
    {
      "cell_type": "code",
      "source": [
        "import numpy as np\n",
        "import pandas as pd\n",
        "\n",
        "# Finding chapter boundaries for sections\n",
        "ch1 = re.search(r\"chapter i the cyclone\", text).start()\n",
        "ch2 = re.search(r\"chapter ii the council with the munchkins\", text).start()\n",
        "ch3 = re.search(r\"chapter iii how dorothy saved the scarecrow\", text).start()\n",
        "ch4 = re.search(r\"chapter iv the road through the forest\", text).start()\n",
        "\n",
        "# Slicing sections\n",
        "section1 = text[ch1:ch2]\n",
        "section2 = text[ch2:ch3]\n",
        "section3 = text[ch3:ch4]\n",
        "sections = [section1, section2, section3]\n",
        "\n",
        "# Tokenizing with regex to stay consistent (using word_pattern from earlier)\n",
        "section_tokens = [re.findall(word_pattern, section) for section in sections]\n",
        "\n",
        "# Extra analysis (No stopwords)\n",
        "section_tokens_no = [[w for w in tokens if w not in stop_words] for tokens in section_tokens]\n",
        "\n",
        "# Bag of Words Class creation\n",
        "class BagOfWords:\n",
        "\n",
        "  def __init__(self):\n",
        "    self.vocabulary = {}\n",
        "    self.vocab_size = 0\n",
        "\n",
        "  def fit(self, tokenized_sections):\n",
        "    vocab_set = set()\n",
        "    for tokens in tokenized_sections:\n",
        "      vocab_set.update(tokens)\n",
        "\n",
        "    self.vocabulary = {word: i for i, word in enumerate(sorted(vocab_set))}\n",
        "    self.vocab_size = len(self.vocabulary)\n",
        "    return self\n",
        "\n",
        "  def transform(self, tokenized_sections):\n",
        "    vectors = np.zeros((len(tokenized_sections), self.vocab_size))\n",
        "\n",
        "    for i, tokens in enumerate(tokenized_sections):\n",
        "      for word in tokens:\n",
        "        if word in self.vocabulary:\n",
        "          word_i = self.vocabulary[word]\n",
        "          vectors[i, word_i] += 1\n",
        "    return vectors\n",
        "\n",
        "  def fit_transform(self, tokenized_sections):\n",
        "    self.fit(tokenized_sections)\n",
        "    return self.transform(tokenized_sections)\n",
        "\n",
        "# Getting a count of top 10 words in all sections\n",
        "bow = BagOfWords()\n",
        "bow_vectors = bow.fit_transform(section_tokens)\n",
        "\n",
        "all_words = [w for s in section_tokens for w in s]\n",
        "top_10_words = Counter(all_words).most_common(10)\n",
        "\n",
        "print(\"Top 10 words:\", top_10_words)\n",
        "\n",
        "# Getting counts per section\n",
        "top_words = [w for w, _ in top_10_words if w in bow.vocabulary]\n",
        "cols_idx = [bow.vocabulary[w] for w in top_words]\n",
        "\n",
        "df = pd.DataFrame(\n",
        "    bow_vectors[:, cols_idx].astype(int),\n",
        "    index=[f\"Section {i+1}\" for i in range(len(section_tokens))],\n",
        "    columns=top_words\n",
        ")\n",
        "\n",
        "print(\"Counts per section (top 10 words):\")\n",
        "print(df.T)\n",
        "\n",
        "# Building Cosine Similarity\n",
        "def cosine_similarity(vec1, vec2):\n",
        "  dot_product = np.dot(vec1, vec2)\n",
        "  norm1 = np.linalg.norm(vec1)\n",
        "  norm2 = np.linalg.norm(vec2)\n",
        "\n",
        "  if norm1 == 0 or norm2 == 0:\n",
        "    return 0.0\n",
        "  return dot_product / (norm1 * norm2)\n",
        "\n",
        "# Calculating similarities\n",
        "n_docs = len(bow_vectors)\n",
        "cosine_matrix = np.zeros((n_docs, n_docs))\n",
        "\n",
        "for i in range(n_docs):\n",
        "  for j in range(n_docs):\n",
        "    cosine_matrix[i, j] = cosine_similarity(bow_vectors[i], bow_vectors[j])\n",
        "\n",
        "# Displaying results\n",
        "labels = [\"Section 1\", \"Section 2\", \"Section 3\"]\n",
        "\n",
        "print(\"\\nCosine Similarity Matrix:\")\n",
        "print(\"         \"+\"   \".join(labels))\n",
        "for i, row in enumerate(cosine_matrix):\n",
        "  row_str = \"      \".join(f\"{val:.4f}\" for val in row) # keeping to 4 decimal places for clean output\n",
        "  print(f\"{labels[i]:<9} {row_str}\")\n",
        "\n",
        "print(\"\\nPairwise Similarities:\")\n",
        "print(f\"Section 1 - Section 2: {cosine_matrix[0, 1]:.4f}\")\n",
        "print(f\"Section 1 - Section 3: {cosine_matrix[0, 2]:.4f}\")\n",
        "print(f\"Section 2 - Section 3: {cosine_matrix[1, 2]:.4f}\")"
      ],
      "metadata": {
        "id": "6l5Z2anPs7ke",
        "colab": {
          "base_uri": "https://localhost:8080/"
        },
        "outputId": "e4c38239-fe10-45d4-8582-000212972157"
      },
      "execution_count": null,
      "outputs": [
        {
          "output_type": "stream",
          "name": "stdout",
          "text": [
            "Top 10 words: [('the', 386), ('and', 214), ('a', 124), ('to', 122), ('of', 106), ('she', 96), ('her', 93), ('dorothy', 73), ('was', 73), ('in', 72)]\n",
            "Counts per section (top 10 words):\n",
            "         Section 1  Section 2  Section 3\n",
            "the             98        161        127\n",
            "and             63         72         79\n",
            "a               28         46         50\n",
            "to              18         42         62\n",
            "of              20         53         33\n",
            "she             22         29         45\n",
            "her             20         39         34\n",
            "dorothy         17         31         25\n",
            "was             23         23         27\n",
            "in              20         30         22\n",
            "\n",
            "Cosine Similarity Matrix:\n",
            "         Section 1   Section 2   Section 3\n",
            "Section 1 1.0000      0.8937      0.8778\n",
            "Section 2 0.8937      1.0000      0.9225\n",
            "Section 3 0.8778      0.9225      1.0000\n",
            "\n",
            "Pairwise Similarities:\n",
            "Section 1 - Section 2: 0.8937\n",
            "Section 1 - Section 3: 0.8778\n",
            "Section 2 - Section 3: 0.9225\n"
          ]
        }
      ]
    },
    {
      "cell_type": "code",
      "source": [
        "# Extra analysis, what if we filter out stopwords?\n",
        "bow_no = BagOfWords()\n",
        "bow_vectors_no = bow_no.fit_transform(section_tokens_no)\n",
        "\n",
        "all_words_no = [w for s in section_tokens_no for w in s]\n",
        "top_10_words_no = Counter(all_words_no).most_common(10)\n",
        "print(\"Top 10 words (no stopwords):\", top_10_words_no)\n",
        "\n",
        "top_words_no = [w for w, _ in top_10_words_no if w in bow_no.vocabulary]\n",
        "cols_idx_no = [bow_no.vocabulary[w] for w in top_words_no]\n",
        "\n",
        "df_no = pd.DataFrame(\n",
        "    bow_vectors_no[:, cols_idx_no].astype(int),\n",
        "    index=[f\"Section {i+1}\" for i in range(len(section_tokens_no))],\n",
        "    columns=top_words_no\n",
        ")\n",
        "print(\"Counts per section (top 10 words, no stopwords):\")\n",
        "print(df_no.T)\n",
        "\n",
        "n_docs = len(bow_vectors_no)\n",
        "cosine_matrix = np.zeros((n_docs, n_docs))\n",
        "\n",
        "for i in range(n_docs):\n",
        "  for j in range(n_docs):\n",
        "    cosine_matrix[i, j] = cosine_similarity(bow_vectors_no[i], bow_vectors_no[j])\n",
        "\n",
        "labels = [\"Section 1\", \"Section 2\", \"Section 3\"]\n",
        "\n",
        "print(\"\\nCosine Similarity Matrix:\")\n",
        "print(\"         \"+\"   \".join(labels))\n",
        "for i, row in enumerate(cosine_matrix):\n",
        "  row_str = \"      \".join(f\"{val:.4f}\" for val in row)\n",
        "  print(f\"{labels[i]:<9} {row_str}\")\n",
        "\n",
        "print(\"\\nPairwise Similarities:\")\n",
        "print(f\"Section 1 - Section 2: {cosine_matrix[0, 1]:.4f}\")\n",
        "print(f\"Section 1 - Section 3: {cosine_matrix[0, 2]:.4f}\")\n",
        "print(f\"Section 2 - Section 3: {cosine_matrix[1, 2]:.4f}\")"
      ],
      "metadata": {
        "colab": {
          "base_uri": "https://localhost:8080/"
        },
        "id": "NLEHz1CGGzvo",
        "outputId": "74963a09-0d68-4fb6-cd0f-d975975dc8ff"
      },
      "execution_count": null,
      "outputs": [
        {
          "output_type": "stream",
          "name": "stdout",
          "text": [
            "Top 10 words (no stopwords): [('dorothy', 73), ('little', 38), ('witch', 30), ('said', 28), ('toto', 27), ('house', 24), ('one', 21), ('girl', 18), ('great', 16), ('oz', 16)]\n",
            "Counts per section (top 10 words, no stopwords):\n",
            "         Section 1  Section 2  Section 3\n",
            "dorothy         17         31         25\n",
            "little           5         25          8\n",
            "witch            0         23          7\n",
            "said             0         14         14\n",
            "toto            10          3         14\n",
            "house           11          9          4\n",
            "one              6         10          5\n",
            "girl             3          7          8\n",
            "great            5          6          5\n",
            "oz               0          8          8\n",
            "\n",
            "Cosine Similarity Matrix:\n",
            "         Section 1   Section 2   Section 3\n",
            "Section 1 1.0000      0.4406      0.4075\n",
            "Section 2 0.4406      1.0000      0.6177\n",
            "Section 3 0.4075      0.6177      1.0000\n",
            "\n",
            "Pairwise Similarities:\n",
            "Section 1 - Section 2: 0.4406\n",
            "Section 1 - Section 3: 0.4075\n",
            "Section 2 - Section 3: 0.6177\n"
          ]
        }
      ]
    },
    {
      "cell_type": "markdown",
      "source": [
        "### **What the similarities tell you about the content**\n",
        "With stopwords included, the sections appear to be very similar (cosine scores of around 0.9). Common words like _the, and, a_ repeat the most, masking real differences in each section.\n",
        "\n",
        "Once stopwords are removed, the similarities have a significant drop (cosine scores of around 0.40-0.61). The vectors show more meaningful terms like _dorothy, little, and witch_. Removing the stopwords helps reflect the differences in actual story content rather than the background structure of English."
      ],
      "metadata": {
        "id": "FS3FBnSeJNM4"
      }
    },
    {
      "cell_type": "markdown",
      "source": [
        "# Part 5: Insights and Visualization"
      ],
      "metadata": {
        "id": "44uzCx00OZLs"
      }
    },
    {
      "cell_type": "code",
      "source": [
        "import matplotlib.pyplot as plt\n",
        "\n",
        "# Word frequency distribution (top 20 words, no stopwords)\n",
        "top20 = filtered_word_freq.most_common(20)\n",
        "words, counts = zip(*top20)\n",
        "\n",
        "plt.figure(figsize=(10,5))\n",
        "plt.bar(words, counts, edgecolor=\"black\")\n",
        "plt.xticks(rotation=45, ha='right')\n",
        "plt.xlabel('Word')\n",
        "plt.ylabel('Frequency')\n",
        "plt.tight_layout()\n",
        "plt.title('Top 20 Word Frequency Distribution (no stopwords)')\n",
        "plt.show()\n",
        "\n",
        "# Sentence length distribution\n",
        "sentence_lengths = [len(re.findall(word_pattern, s)) for s in sentences]\n",
        "\n",
        "plt.figure(figsize=(8,5))\n",
        "plt.hist(sentence_lengths, bins=30, edgecolor=\"black\")\n",
        "plt.title(\"Sentence Length Distribution\")\n",
        "plt.xlabel(\"Words per Sentence\")\n",
        "plt.ylabel(\"Frequency\")\n",
        "plt.tight_layout()\n",
        "plt.show()\n"
      ],
      "metadata": {
        "colab": {
          "base_uri": "https://localhost:8080/",
          "height": 1019
        },
        "id": "_YA8C369KLK2",
        "outputId": "3e92897c-564a-4b79-a1da-75d7683ca84a"
      },
      "execution_count": null,
      "outputs": [
        {
          "output_type": "display_data",
          "data": {
            "text/plain": [
              "<Figure size 1000x500 with 1 Axes>"
            ],
            "image/png": "[encoded data removed]"
          },
          "metadata": {}
        },
        {
          "output_type": "display_data",
          "data": {
            "text/plain": [
              "<Figure size 800x500 with 1 Axes>"
            ],
            "image/png": "[encoded data removed]"
          },
          "metadata": {}
        }
      ]
    },
    {
      "cell_type": "markdown",
      "source": [
        "### **Brief Summary of my Findings**\n",
        "In The Wonderful Wizard of Oz, some clear patterns stood out. Once stopwords are removed, the most frequent words are names and story terms like *Dorothy, Scarecrow, Woodman, and Lion*. This confirms that the text revolves around its main characters.\n",
        "\n",
        "The sentence length chart shows most sentences are short, under 50 words, while some groups stretch towards 80. The short sentences keep the story easy to follow, and the longer sentences are able to provide room for description and scene-setting.\n",
        "\n",
        "---\n",
        "\n",
        "Regular expressions worked well for this project. They made it straightforward to clean the Gutenberg text, normalize quotes and spaces, and pull out patterns (like dialogue, questions, and exclamations).\n",
        "\n",
        "Regex had its limitations though, it was challenging to look for names. Regex labeled sentence starters or cities as characters. It was also difficult to parse sentences by length due to the many edge cases punctuation can have in natural language. That shows that regex is strong for structure but less precise for meaning. For greater accuracy, more advanced NLP methods would be needed."
      ],
      "metadata": {
        "id": "rn0rjvz6T3AU"
      }
    }
  ]
}